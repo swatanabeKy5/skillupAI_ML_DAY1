{
 "cells": [
  {
   "cell_type": "markdown",
   "metadata": {},
   "source": [
    "### 通し課題1 Kickstar Ploject"
   ]
  },
  {
   "cell_type": "code",
   "execution_count": 11,
   "metadata": {},
   "outputs": [],
   "source": [
    "%matplotlib inline\n",
    "import pandas as pd\n",
    "import numpy as np\n",
    "import matplotlib.pyplot as plt\n",
    "from sklearn.linear_model import SGDClassifier\n",
    "from sklearn.metrics import log_loss, accuracy_score, confusion_matrix\n",
    "from sklearn.metrics import mean_squared_error, mean_absolute_error\n",
    "from sklearn.metrics import precision_recall_fscore_support\n",
    "import datetime\n",
    "import seaborn as sns\n",
    "import plotly.offline as py\n",
    "import plotly.graph_objs as go\n",
    "import cufflinks as cf"
   ]
  },
  {
   "cell_type": "code",
   "execution_count": 15,
   "metadata": {},
   "outputs": [
    {
     "data": {
      "text/html": [
       "<div>\n",
       "<style scoped>\n",
       "    .dataframe tbody tr th:only-of-type {\n",
       "        vertical-align: middle;\n",
       "    }\n",
       "\n",
       "    .dataframe tbody tr th {\n",
       "        vertical-align: top;\n",
       "    }\n",
       "\n",
       "    .dataframe thead th {\n",
       "        text-align: right;\n",
       "    }\n",
       "</style>\n",
       "<table border=\"1\" class=\"dataframe\">\n",
       "  <thead>\n",
       "    <tr style=\"text-align: right;\">\n",
       "      <th></th>\n",
       "      <th>ID</th>\n",
       "      <th>name</th>\n",
       "      <th>category</th>\n",
       "      <th>main_category</th>\n",
       "      <th>currency</th>\n",
       "      <th>deadline</th>\n",
       "      <th>goal</th>\n",
       "      <th>launched</th>\n",
       "      <th>pledged</th>\n",
       "      <th>state</th>\n",
       "      <th>backers</th>\n",
       "      <th>country</th>\n",
       "      <th>usd pledged</th>\n",
       "      <th>usd_pledged_real</th>\n",
       "      <th>usd_goal_real</th>\n",
       "    </tr>\n",
       "  </thead>\n",
       "  <tbody>\n",
       "    <tr>\n",
       "      <th>0</th>\n",
       "      <td>1000002330</td>\n",
       "      <td>The Songs of Adelaide &amp; Abullah</td>\n",
       "      <td>Poetry</td>\n",
       "      <td>Publishing</td>\n",
       "      <td>GBP</td>\n",
       "      <td>2015-10-09</td>\n",
       "      <td>1000.0</td>\n",
       "      <td>2015-08-11 12:12:28</td>\n",
       "      <td>0.0</td>\n",
       "      <td>failed</td>\n",
       "      <td>0</td>\n",
       "      <td>GB</td>\n",
       "      <td>0.0</td>\n",
       "      <td>0.0</td>\n",
       "      <td>1533.95</td>\n",
       "    </tr>\n",
       "    <tr>\n",
       "      <th>1</th>\n",
       "      <td>1000003930</td>\n",
       "      <td>Greeting From Earth: ZGAC Arts Capsule For ET</td>\n",
       "      <td>Narrative Film</td>\n",
       "      <td>Film &amp; Video</td>\n",
       "      <td>USD</td>\n",
       "      <td>2017-11-01</td>\n",
       "      <td>30000.0</td>\n",
       "      <td>2017-09-02 04:43:57</td>\n",
       "      <td>2421.0</td>\n",
       "      <td>failed</td>\n",
       "      <td>15</td>\n",
       "      <td>US</td>\n",
       "      <td>100.0</td>\n",
       "      <td>2421.0</td>\n",
       "      <td>30000.00</td>\n",
       "    </tr>\n",
       "    <tr>\n",
       "      <th>2</th>\n",
       "      <td>1000004038</td>\n",
       "      <td>Where is Hank?</td>\n",
       "      <td>Narrative Film</td>\n",
       "      <td>Film &amp; Video</td>\n",
       "      <td>USD</td>\n",
       "      <td>2013-02-26</td>\n",
       "      <td>45000.0</td>\n",
       "      <td>2013-01-12 00:20:50</td>\n",
       "      <td>220.0</td>\n",
       "      <td>failed</td>\n",
       "      <td>3</td>\n",
       "      <td>US</td>\n",
       "      <td>220.0</td>\n",
       "      <td>220.0</td>\n",
       "      <td>45000.00</td>\n",
       "    </tr>\n",
       "    <tr>\n",
       "      <th>3</th>\n",
       "      <td>1000007540</td>\n",
       "      <td>ToshiCapital Rekordz Needs Help to Complete Album</td>\n",
       "      <td>Music</td>\n",
       "      <td>Music</td>\n",
       "      <td>USD</td>\n",
       "      <td>2012-04-16</td>\n",
       "      <td>5000.0</td>\n",
       "      <td>2012-03-17 03:24:11</td>\n",
       "      <td>1.0</td>\n",
       "      <td>failed</td>\n",
       "      <td>1</td>\n",
       "      <td>US</td>\n",
       "      <td>1.0</td>\n",
       "      <td>1.0</td>\n",
       "      <td>5000.00</td>\n",
       "    </tr>\n",
       "    <tr>\n",
       "      <th>4</th>\n",
       "      <td>1000011046</td>\n",
       "      <td>Community Film Project: The Art of Neighborhoo...</td>\n",
       "      <td>Film &amp; Video</td>\n",
       "      <td>Film &amp; Video</td>\n",
       "      <td>USD</td>\n",
       "      <td>2015-08-29</td>\n",
       "      <td>19500.0</td>\n",
       "      <td>2015-07-04 08:35:03</td>\n",
       "      <td>1283.0</td>\n",
       "      <td>canceled</td>\n",
       "      <td>14</td>\n",
       "      <td>US</td>\n",
       "      <td>1283.0</td>\n",
       "      <td>1283.0</td>\n",
       "      <td>19500.00</td>\n",
       "    </tr>\n",
       "  </tbody>\n",
       "</table>\n",
       "</div>"
      ],
      "text/plain": [
       "           ID                                               name  \\\n",
       "0  1000002330                    The Songs of Adelaide & Abullah   \n",
       "1  1000003930      Greeting From Earth: ZGAC Arts Capsule For ET   \n",
       "2  1000004038                                     Where is Hank?   \n",
       "3  1000007540  ToshiCapital Rekordz Needs Help to Complete Album   \n",
       "4  1000011046  Community Film Project: The Art of Neighborhoo...   \n",
       "\n",
       "         category main_category currency    deadline     goal  \\\n",
       "0          Poetry    Publishing      GBP  2015-10-09   1000.0   \n",
       "1  Narrative Film  Film & Video      USD  2017-11-01  30000.0   \n",
       "2  Narrative Film  Film & Video      USD  2013-02-26  45000.0   \n",
       "3           Music         Music      USD  2012-04-16   5000.0   \n",
       "4    Film & Video  Film & Video      USD  2015-08-29  19500.0   \n",
       "\n",
       "              launched  pledged     state  backers country  usd pledged  \\\n",
       "0  2015-08-11 12:12:28      0.0    failed        0      GB          0.0   \n",
       "1  2017-09-02 04:43:57   2421.0    failed       15      US        100.0   \n",
       "2  2013-01-12 00:20:50    220.0    failed        3      US        220.0   \n",
       "3  2012-03-17 03:24:11      1.0    failed        1      US          1.0   \n",
       "4  2015-07-04 08:35:03   1283.0  canceled       14      US       1283.0   \n",
       "\n",
       "   usd_pledged_real  usd_goal_real  \n",
       "0               0.0        1533.95  \n",
       "1            2421.0       30000.00  \n",
       "2             220.0       45000.00  \n",
       "3               1.0        5000.00  \n",
       "4            1283.0       19500.00  "
      ]
     },
     "execution_count": 15,
     "metadata": {},
     "output_type": "execute_result"
    }
   ],
   "source": [
    "df_ks0 = pd.read_csv(\"kickstarter-projects/ks-projects-201801.csv\")\n",
    "df_ks0.head()"
   ]
  },
  {
   "cell_type": "code",
   "execution_count": 16,
   "metadata": {},
   "outputs": [
    {
     "name": "stdout",
     "output_type": "stream",
     "text": [
      "   state        category main_category currency     goal  delta\n",
      "0      0          Poetry    Publishing      GBP   1000.0     58\n",
      "1      0  Narrative Film  Film & Video      USD  30000.0     59\n",
      "2      0  Narrative Film  Film & Video      USD  45000.0     44\n",
      "3      0           Music         Music      USD   5000.0     29\n",
      "5      1     Restaurants          Food      USD  50000.0     34\n",
      "state            0\n",
      "category         0\n",
      "main_category    0\n",
      "currency         0\n",
      "goal             0\n",
      "delta            0\n",
      "dtype: int64\n",
      "state            331675\n",
      "category         331675\n",
      "main_category    331675\n",
      "currency         331675\n",
      "goal             331675\n",
      "delta            331675\n",
      "dtype: int64\n"
     ]
    }
   ],
   "source": [
    "#必要そうな列だけcsv読み込む\n",
    "df_ks = pd.read_csv(\"kickstarter-projects/ks-projects-201801.csv\")[[ 'state', 'category', 'main_category', 'currency', 'goal', 'deadline', 'launched']]\n",
    "\n",
    "#KSのlaunched、deadlineから開催期間(日数)を計算する\n",
    "#文字列をdatetime型に変換\n",
    "#df_ks['launched'] = datetime.datetime.strptime(df_ks['launched'], '%Y/%m/%d %H:%M') \n",
    "#df_ks['deadline'] = datetime.datetime.strptime(df_ks['deadline'], '%Y/%m/%d')\n",
    "df_ks['launched'] = pd.to_datetime(df_ks['launched']) \n",
    "df_ks['deadline'] = pd.to_datetime(df_ks['deadline'])\n",
    "\n",
    "#期間を計算\n",
    "df_ks['delta'] = (df_ks['deadline'] - df_ks['launched']).apply(lambda x: x.days)\n",
    "#こっちだとエラー出た\n",
    "#df_ks['delta'] = datetime.datetime.strptime(df_ks['launched'], '%d %H:%M:%S')\n",
    "#.apply(~がないとerror起こす。配列には適用できない？\n",
    "#print(df_ks['delta'].days)\n",
    "\n",
    "#launch, deadline削除\n",
    "df_ks = df_ks.drop(columns=['launched', 'deadline'])\n",
    "#stateがsuccessfulとfailed以外のもの削除\n",
    "df_ks = df_ks.query('state == [\"successful\", \"failed\"]')\n",
    "\n",
    "#stateの列を数字に置き換え(failedを0、successfulを1)\n",
    "for df in [df_ks]:    \n",
    "    df.loc[df['state']=='failed', \"state\"]=0\n",
    "    df.loc[df['state']=='successful', \"state\"]=1\n",
    "\n",
    "#データを表示\n",
    "print(df_ks.head())\n",
    "#欠損値がないか確認\n",
    "print(df_ks.isnull().sum())\n",
    "print(df_ks.notnull().sum())"
   ]
  },
  {
   "cell_type": "code",
   "execution_count": 17,
   "metadata": {},
   "outputs": [
    {
     "name": "stdout",
     "output_type": "stream",
     "text": [
      "   state        category main_category currency     goal  delta  goal_band\n",
      "0      0          Poetry    Publishing      GBP   1000.0     58          0\n",
      "1      0  Narrative Film  Film & Video      USD  30000.0     59          5\n",
      "2      0  Narrative Film  Film & Video      USD  45000.0     44          5\n",
      "3      0           Music         Music      USD   5000.0     29          1\n",
      "5      1     Restaurants          Food      USD  50000.0     34          5\n"
     ]
    },
    {
     "data": {
      "image/png": "[encoded data removed]",
      "text/plain": [
       "<Figure size 432x288 with 1 Axes>"
      ]
     },
     "metadata": {
      "needs_background": "light"
     },
     "output_type": "display_data"
    }
   ],
   "source": [
    "#とりあえず定量的な値はgoalとdeltaだけなのでこれらを使う。\n",
    "#goalの分布\n",
    "data = df_ks['goal']\n",
    "plt.hist(data, range=(0, 100000), bins=25);\n",
    "plt.hist(data, range=(0, 50000), bins=25);\n",
    "plt.hist(data, range=(0, 10000), bins=10);\n",
    "\n",
    "#goalを金額で7つに分類\n",
    "for df in [df_ks]:\n",
    "    df['goal_band'] = pd.cut(df.goal, [0, 2500, 5000, 7500, 10000, 20000, 50000, 100000000], labels=False)\n",
    "\n",
    "print(df_ks.head())"
   ]
  },
  {
   "cell_type": "code",
   "execution_count": 18,
   "metadata": {
    "scrolled": true
   },
   "outputs": [
    {
     "name": "stdout",
     "output_type": "stream",
     "text": [
      "   state        category main_category currency  delta  goal_band\n",
      "0      0          Poetry    Publishing      GBP     58          0\n",
      "1      0  Narrative Film  Film & Video      USD     59          5\n",
      "2      0  Narrative Film  Film & Video      USD     44          5\n",
      "3      0           Music         Music      USD     29          1\n",
      "5      1     Restaurants          Food      USD     34          5\n"
     ]
    }
   ],
   "source": [
    "#goal削除\n",
    "df_ks = df_ks.drop(['goal'], axis = 1)\n",
    "print(df_ks.head())"
   ]
  },
  {
   "cell_type": "code",
   "execution_count": 19,
   "metadata": {},
   "outputs": [
    {
     "name": "stdout",
     "output_type": "stream",
     "text": [
      "               state          delta      goal_band\n",
      "count  331675.000000  331675.000000  331675.000000\n",
      "mean        0.403877      32.954902       2.158245\n",
      "std         0.490674      12.713329       2.054510\n",
      "min         0.000000       0.000000       0.000000\n",
      "25%         0.000000      29.000000       0.000000\n",
      "50%         0.000000      29.000000       1.000000\n",
      "75%         1.000000      35.000000       4.000000\n",
      "max         1.000000      91.000000       6.000000\n"
     ]
    }
   ],
   "source": [
    "print(df_ks.describe())"
   ]
  },
  {
   "cell_type": "code",
   "execution_count": 25,
   "metadata": {},
   "outputs": [
    {
     "name": "stdout",
     "output_type": "stream",
     "text": [
      "w0 = 0.610, w1 = -0.229, w2 = -0.036\n",
      "   state        category main_category currency  delta  goal_band\n",
      "0      0          Poetry    Publishing      GBP     58          0\n",
      "1      0  Narrative Film  Film & Video      USD     59          5\n",
      "2      0  Narrative Film  Film & Video      USD     44          5\n",
      "3      0           Music         Music      USD     29          1\n",
      "5      1     Restaurants          Food      USD     34          5\n"
     ]
    }
   ],
   "source": [
    "#説明変数を2つに絞ってロジスティック回帰\n",
    "y = df_ks[\"state\"].values\n",
    "X = df_ks[[\"goal_band\", \"delta\"]].values\n",
    "clf = SGDClassifier(loss='log', penalty='none', max_iter=100000, fit_intercept=True, random_state=1234, tol=1e-3)\n",
    "clf.fit(X, y)\n",
    "\n",
    "# 重みを取得して表示\n",
    "w0 = clf.intercept_[0]\n",
    "w1 = clf.coef_[0, 0]\n",
    "w2 = clf.coef_[0, 1]\n",
    "print(\"w0 = {:.3f}, w1 = {:.3f}, w2 = {:.3f}\".format(w0, w1, w2))"
   ]
  },
  {
   "cell_type": "code",
   "execution_count": 31,
   "metadata": {},
   "outputs": [
    {
     "name": "stdout",
     "output_type": "stream",
     "text": [
      "<class 'numpy.ndarray'>\n"
     ]
    },
    {
     "data": {
      "image/png": "[encoded data removed]",
      "text/plain": [
       "<Figure size 432x288 with 1 Axes>"
      ]
     },
     "metadata": {
      "needs_background": "light"
     },
     "output_type": "display_data"
    }
   ],
   "source": [
    "x1, x2 = df_ks[\"goal_band\"].values, df_ks[\"delta\"].values \n",
    "\n",
    "# データをプロット\n",
    "plt.grid(which='major',color='black',linestyle=':')\n",
    "plt.grid(which='minor',color='black',linestyle=':')\n",
    "\n",
    "plt.plot(x1[y], x2[y], 'o', color='C0', label='failed')\n",
    "plt.plot(x1[~y], x2[~y], '^', color='C1', label='successful')\n",
    "#プロット数足りなくない？なぜ散布図でplt.plot使ってる？\n",
    "print(type(x1[y]))\n",
    "\n",
    "# 境界線をプロットして表示\n",
    "# 紫：境界線\n",
    "line_x = np.arange(np.min(x1) - 1, np.max(x1) + 1)\n",
    "line_y = - line_x * w1 / w2 - w0 / w2\n",
    "plt.plot(line_x, line_y, linestyle='-.', linewidth=3, color='purple', label='Threshold')\n",
    "plt.ylim([np.min(x2) - 1, np.max(x2) + 1])\n",
    "plt.legend(loc='best')\n",
    "\n",
    "plt.xlabel(\"goal_band\")\n",
    "plt.ylabel(\"delta\")\n",
    "plt.show()\n"
   ]
  },
  {
   "cell_type": "code",
   "execution_count": 21,
   "metadata": {},
   "outputs": [
    {
     "name": "stdout",
     "output_type": "stream",
     "text": [
      "対数尤度 = -13.671\n",
      "正答率 = 60.418%\n"
     ]
    }
   ],
   "source": [
    "# ラベルを予測\n",
    "y_pred = clf.predict(X)\n",
    "\n",
    "# 対数尤度を表示\n",
    "print('対数尤度 = {:.3f}'.format(- log_loss(y, y_pred)))\n",
    "\n",
    "# 正答率を表示\n",
    "print('正答率 = {:.3f}%'.format(100 * accuracy_score(y, y_pred)))"
   ]
  },
  {
   "cell_type": "code",
   "execution_count": 22,
   "metadata": {},
   "outputs": [
    {
     "name": "stdout",
     "output_type": "stream",
     "text": [
      "正答率（Accuracy） = 60.418%\n",
      "適合率（Precision） = 60.483%\n",
      "再現率（Recall） = 96.933%\n",
      "F1値（F1-score） = 74.488%\n"
     ]
    }
   ],
   "source": [
    "# ラベルを予測\n",
    "y_pred = clf.predict(X)\n",
    "\n",
    "# 正答率を計算\n",
    "accuracy =  accuracy_score(y, y_pred)\n",
    "print('正答率（Accuracy） = {:.3f}%'.format(100 * accuracy))\n",
    "\n",
    "# Precision, Recall, F1-scoreを計算\n",
    "precision, recall, f1_score, _ = precision_recall_fscore_support(y, y_pred)\n",
    "\n",
    "# カテゴリ「2000万以上」に関するPrecision, Recall, F1-scoreを表示\n",
    "print('適合率（Precision） = {:.3f}%'.format(100 * precision[0]))\n",
    "print('再現率（Recall） = {:.3f}%'.format(100 * recall[0]))\n",
    "print('F1値（F1-score） = {:.3f}%'.format(100 * f1_score[0]))"
   ]
  },
  {
   "cell_type": "code",
   "execution_count": 23,
   "metadata": {},
   "outputs": [
    {
     "data": {
      "text/html": [
       "<div>\n",
       "<style scoped>\n",
       "    .dataframe tbody tr th:only-of-type {\n",
       "        vertical-align: middle;\n",
       "    }\n",
       "\n",
       "    .dataframe tbody tr th {\n",
       "        vertical-align: top;\n",
       "    }\n",
       "\n",
       "    .dataframe thead th {\n",
       "        text-align: right;\n",
       "    }\n",
       "</style>\n",
       "<table border=\"1\" class=\"dataframe\">\n",
       "  <thead>\n",
       "    <tr style=\"text-align: right;\">\n",
       "      <th></th>\n",
       "      <th>予測 = failed</th>\n",
       "      <th>予測 = successful</th>\n",
       "    </tr>\n",
       "  </thead>\n",
       "  <tbody>\n",
       "    <tr>\n",
       "      <th>正解 = failed</th>\n",
       "      <td>191654</td>\n",
       "      <td>6065</td>\n",
       "    </tr>\n",
       "    <tr>\n",
       "      <th>正解 = successful</th>\n",
       "      <td>125218</td>\n",
       "      <td>8738</td>\n",
       "    </tr>\n",
       "  </tbody>\n",
       "</table>\n",
       "</div>"
      ],
      "text/plain": [
       "                 予測 = failed  予測 = successful\n",
       "正解 = failed           191654             6065\n",
       "正解 = successful       125218             8738"
      ]
     },
     "execution_count": 23,
     "metadata": {},
     "output_type": "execute_result"
    }
   ],
   "source": [
    "# 予測値と正解のクロス集計\n",
    "conf_mat = pd.DataFrame(confusion_matrix(y, y_pred), \n",
    "                        index=['正解 = failed', '正解 = successful'], \n",
    "                        columns=['予測 = failed', '予測 = successful'])\n",
    "conf_mat"
   ]
  },
  {
   "cell_type": "code",
   "execution_count": null,
   "metadata": {},
   "outputs": [],
   "source": []
  }
 ],
 "metadata": {
  "kernelspec": {
   "display_name": "Python 3",
   "language": "python",
   "name": "python3"
  },
  "language_info": {
   "codemirror_mode": {
    "name": "ipython",
    "version": 3
   },
   "file_extension": ".py",
   "mimetype": "text/x-python",
   "name": "python",
   "nbconvert_exporter": "python",
   "pygments_lexer": "ipython3",
   "version": "3.7.3"
  }
 },
 "nbformat": 4,
 "nbformat_minor": 2
}
